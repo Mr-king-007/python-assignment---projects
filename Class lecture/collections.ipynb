{
 "cells": [
  {
   "cell_type": "markdown",
   "metadata": {},
   "source": [
    "list = []                       => Square Brackets\n",
    "tuple = ()                      => Round  Brackets\n",
    "sets = {}                       => Curly  Brackets\n",
    "Dict = {\"key\": \"value\"}         => Curly  Brackets"
   ]
  }
 ],
 "metadata": {
  "interpreter": {
   "hash": "3410afedb74081d81603511028deadddc25ba0f01c14e0cb891e2c2473f81884"
  },
  "kernelspec": {
   "display_name": "Python 3.8.8 64-bit",
   "language": "python",
   "name": "python3"
  },
  "language_info": {
   "name": "python",
   "version": "3.8.8"
  },
  "orig_nbformat": 4
 },
 "nbformat": 4,
 "nbformat_minor": 2
}
