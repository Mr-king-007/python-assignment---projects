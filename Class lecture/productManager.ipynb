{
 "cells": [
  {
   "cell_type": "code",
   "execution_count": 104,
   "metadata": {},
   "outputs": [],
   "source": [
    "shopStock = {\n",
    "    \"Apple\" : 50,\n",
    "    \"Banana\" : 150,\n",
    "    \"Kiwi\" : 80,\n",
    "    \"Orange\" : 200,\n",
    "}"
   ]
  },
  {
   "cell_type": "code",
   "execution_count": 105,
   "metadata": {},
   "outputs": [],
   "source": [
    "stockPrice = {\n",
    "    \"Apple\" : 50,\n",
    "    \"Banana\" : 5,\n",
    "    \"Kiwi\" : 30,\n",
    "    \"Orange\" : 20,\n",
    "}"
   ]
  },
  {
   "cell_type": "code",
   "execution_count": 106,
   "metadata": {},
   "outputs": [],
   "source": [
    "custStock = {}\n",
    "custPrice = {}"
   ]
  },
  {
   "cell_type": "code",
   "execution_count": 107,
   "metadata": {},
   "outputs": [],
   "source": [
    "def printMenu():\n",
    "    counter = 1\n",
    "    print(f\"No\\tItem\\t\\tStock\\t\\tPrice\")\n",
    "    print(\"-\"*50)\n",
    "    for k, v in shopStock.items():\n",
    "        istockPrice = stockPrice[k]\n",
    "        print(f\"{counter}\\t{k}\\t\\t{v}\\t\\t{istockPrice}\")\n",
    "        counter += 1"
   ]
  },
  {
   "cell_type": "code",
   "execution_count": 108,
   "metadata": {},
   "outputs": [
    {
     "name": "stdout",
     "output_type": "stream",
     "text": [
      "No\tItem\t\tStock\t\tPrice\n",
      "--------------------------------------------------\n",
      "1\tApple\t\t50\t\t50\n",
      "2\tBanana\t\t150\t\t5\n",
      "3\tKiwi\t\t80\t\t30\n",
      "4\tOrange\t\t200\t\t20\n"
     ]
    }
   ],
   "source": [
    "printMenu()"
   ]
  },
  {
   "cell_type": "code",
   "execution_count": 109,
   "metadata": {},
   "outputs": [],
   "source": [
    "def custBuyProduct():\n",
    "    printMenu()\n",
    "    item = input(\"Please enter what do you want to buy : \").capitalize()\n",
    "    if item in shopStock:\n",
    "        quantity = input(f\"How many {item}(s) do you want to buy : \")\n",
    "        if quantity.isdigit():\n",
    "            quantity = int(quantity)\n",
    "            currentStock = shopStock[item]\n",
    "            if currentStock >= quantity:\n",
    "                shopStock[item] = currentStock-quantity\n",
    "                if item in custStock:\n",
    "                    custStock[item] += quantity\n",
    "                    custPrice[item] += (stockPrice[item] * quantity)\n",
    "                else:\n",
    "                    custStock[item] = quantity\n",
    "                    custPrice[item] = quantity*stockPrice[item]\n",
    "                print(\"\\n\\n\")\n",
    "                print(\"*\"*50)\n",
    "                print(\"\\t\\tOrder successful\")\n",
    "                print(\"*\"*50)\n",
    "\n",
    "                if shopStock[item] <= 0:\n",
    "                    shopStock.pop(item)\n",
    "                    stockPrice.pop(item)\n",
    "\n",
    "            else:\n",
    "                print(f\"Not enough stock available. We have {currentStock} {item}s at present.\")\n",
    "        else:\n",
    "            print(f\"{item} should be ordered by numbers and not '{quantity}'\")\n",
    "    else:\n",
    "        print(f\"{item} not available\")"
   ]
  },
  {
   "cell_type": "code",
   "execution_count": 110,
   "metadata": {},
   "outputs": [
    {
     "name": "stdout",
     "output_type": "stream",
     "text": [
      "No\tItem\t\tStock\t\tPrice\n",
      "--------------------------------------------------\n",
      "1\tApple\t\t50\t\t50\n",
      "2\tBanana\t\t150\t\t5\n",
      "3\tKiwi\t\t80\t\t30\n",
      "4\tOrange\t\t200\t\t20\n",
      "\n",
      "\n",
      "\n",
      "**************************************************\n",
      "\t\tOrder successful\n",
      "**************************************************\n"
     ]
    }
   ],
   "source": [
    "custBuyProduct()"
   ]
  },
  {
   "cell_type": "code",
   "execution_count": 111,
   "metadata": {},
   "outputs": [
    {
     "data": {
      "text/plain": [
       "{'Apple': 50, 'Banana': 150, 'Orange': 200}"
      ]
     },
     "execution_count": 111,
     "metadata": {},
     "output_type": "execute_result"
    }
   ],
   "source": [
    "shopStock"
   ]
  },
  {
   "cell_type": "code",
   "execution_count": 112,
   "metadata": {},
   "outputs": [
    {
     "data": {
      "text/plain": [
       "{'Kiwi': 80}"
      ]
     },
     "execution_count": 112,
     "metadata": {},
     "output_type": "execute_result"
    }
   ],
   "source": [
    "custStock"
   ]
  },
  {
   "cell_type": "code",
   "execution_count": 113,
   "metadata": {},
   "outputs": [
    {
     "data": {
      "text/plain": [
       "{'Kiwi': 80}"
      ]
     },
     "execution_count": 113,
     "metadata": {},
     "output_type": "execute_result"
    }
   ],
   "source": [
    "custStock"
   ]
  },
  {
   "cell_type": "code",
   "execution_count": 114,
   "metadata": {},
   "outputs": [
    {
     "data": {
      "text/plain": [
       "{'Kiwi': 2400}"
      ]
     },
     "execution_count": 114,
     "metadata": {},
     "output_type": "execute_result"
    }
   ],
   "source": [
    "custPrice"
   ]
  },
  {
   "cell_type": "code",
   "execution_count": 115,
   "metadata": {},
   "outputs": [
    {
     "data": {
      "text/plain": [
       "{'Kiwi': 2400}"
      ]
     },
     "execution_count": 115,
     "metadata": {},
     "output_type": "execute_result"
    }
   ],
   "source": [
    "custPrice"
   ]
  },
  {
   "cell_type": "code",
   "execution_count": 116,
   "metadata": {},
   "outputs": [],
   "source": [
    "def showCustCart():\n",
    "    counter = 1\n",
    "    print(f\"No\\tItem\\t\\tStock\\t\\tPrice\")\n",
    "    print(\"-\"*50)\n",
    "    for k, v in custStock.items():\n",
    "        istockPrice = custPrice[k]\n",
    "        print(f\"{counter}\\t{k}\\t\\t{v}\\t\\t{istockPrice}\")\n",
    "        counter += 1"
   ]
  },
  {
   "cell_type": "code",
   "execution_count": 117,
   "metadata": {},
   "outputs": [
    {
     "name": "stdout",
     "output_type": "stream",
     "text": [
      "No\tItem\t\tStock\t\tPrice\n",
      "--------------------------------------------------\n",
      "1\tKiwi\t\t80\t\t2400\n"
     ]
    }
   ],
   "source": [
    "showCustCart()"
   ]
  },
  {
   "cell_type": "code",
   "execution_count": 118,
   "metadata": {},
   "outputs": [],
   "source": [
    "def custRemoveProduct():\n",
    "    showCustCart()\n",
    "    rmvItem = input(\"Please enter what do you want to remove : \").capitalize()\n",
    "    if rmvItem in custStock:\n",
    "        rmvQty = input(f\"How many {rmvItem}s do you want to remove : \")\n",
    "        if rmvQty.isdigit():\n",
    "            rmvQty = int(rmvQty)\n",
    "            currentStock = custStock[rmvItem]\n",
    "            if currentStock >= rmvQty:\n",
    "                \n",
    "                if rmvItem in stockPrice and rmvItem in shopStock:\n",
    "                    custPrice[rmvItem] = custStock[rmvItem] * stockPrice[rmvItem]\n",
    "                    shopStock[rmvItem] += rmvQty\n",
    "                else:\n",
    "                    actual_price = custPrice[rmvItem] / custStock[rmvItem] \n",
    "                    stockPrice[rmvItem] = int(actual_price)\n",
    "                    shopStock[rmvItem] = rmvQty\n",
    "\n",
    "\n",
    "                custStock[rmvItem] -= rmvQty\n",
    "                custPrice[rmvItem] = custStock[rmvItem] * stockPrice[rmvItem]\n",
    "\n",
    "                print(\"\\n\\n\")\n",
    "                print(\"*\"*55)\n",
    "                print(\"\\t\\tItem removed successfully\")\n",
    "                print(\"*\"*55)\n",
    "                \n",
    "                if custStock[rmvItem] == 0:\n",
    "                    custStock.pop(rmvItem)\n",
    "                    custPrice.pop(rmvItem)\n",
    "            else:\n",
    "                print(f\"You cannot remove more that you have i.e., {currentStock}\")\n",
    "        else:\n",
    "            print(f\"Please enter digits only and not '{rmvQty}'\")\n",
    "    else:\n",
    "        print(f\"Seems like you dont have {rmvItem} in your cart.\")"
   ]
  },
  {
   "cell_type": "code",
   "execution_count": 128,
   "metadata": {},
   "outputs": [
    {
     "name": "stdout",
     "output_type": "stream",
     "text": [
      "No\tItem\t\tStock\t\tPrice\n",
      "--------------------------------------------------\n",
      "1\tKiwi\t\t1\t\t30\n",
      "Seems like you dont have Osnvojdf in your cart.\n"
     ]
    }
   ],
   "source": [
    "custRemoveProduct()"
   ]
  },
  {
   "cell_type": "code",
   "execution_count": 126,
   "metadata": {},
   "outputs": [
    {
     "name": "stdout",
     "output_type": "stream",
     "text": [
      "No\tItem\t\tStock\t\tPrice\n",
      "--------------------------------------------------\n",
      "1\tKiwi\t\t1\t\t30\n"
     ]
    }
   ],
   "source": [
    "showCustCart()"
   ]
  },
  {
   "cell_type": "code",
   "execution_count": 127,
   "metadata": {},
   "outputs": [
    {
     "name": "stdout",
     "output_type": "stream",
     "text": [
      "No\tItem\t\tStock\t\tPrice\n",
      "--------------------------------------------------\n",
      "1\tApple\t\t50\t\t50\n",
      "2\tBanana\t\t150\t\t5\n",
      "3\tOrange\t\t200\t\t20\n",
      "4\tKiwi\t\t79\t\t30\n"
     ]
    }
   ],
   "source": [
    "printMenu()"
   ]
  },
  {
   "cell_type": "code",
   "execution_count": null,
   "metadata": {},
   "outputs": [
    {
     "name": "stdout",
     "output_type": "stream",
     "text": [
      "No\tItem\t\tStock\t\tPrice\n",
      "--------------------------------------------------\n",
      "1\tApple\t\t20\t\t50\n",
      "2\tBanana\t\t150\t\t5\n",
      "3\tKiwi\t\t80\t\t30\n",
      "4\tOrange\t\t140\t\t20\n"
     ]
    }
   ],
   "source": [
    "printMenu()"
   ]
  },
  {
   "cell_type": "code",
   "execution_count": null,
   "metadata": {},
   "outputs": [],
   "source": []
  }
 ],
 "metadata": {
  "interpreter": {
   "hash": "3410afedb74081d81603511028deadddc25ba0f01c14e0cb891e2c2473f81884"
  },
  "kernelspec": {
   "display_name": "Python 3.8.8 64-bit",
   "language": "python",
   "name": "python3"
  },
  "language_info": {
   "codemirror_mode": {
    "name": "ipython",
    "version": 3
   },
   "file_extension": ".py",
   "mimetype": "text/x-python",
   "name": "python",
   "nbconvert_exporter": "python",
   "pygments_lexer": "ipython3",
   "version": "3.8.8"
  },
  "orig_nbformat": 4
 },
 "nbformat": 4,
 "nbformat_minor": 2
}
