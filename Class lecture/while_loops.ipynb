{
 "cells": [
  {
   "cell_type": "markdown",
   "metadata": {},
   "source": [
    "while Loop:\n",
    "\n",
    "while condition:\n",
    "    do something until the condition is met....\n",
    "\n",
    "var = True\n",
    "while var:\n",
    "    until the variable's val is True... do sometthing...\n",
    "    when the desired outcome is met, change var to 'False' in order to break the loop\n",
    "\n",
    "while True:\n",
    "    until the condition is met... do sometthing...\n",
    "    then add 'break'\n",
    "\n",
    "\n",
    "1. break\n",
    "2. continue\n",
    "3. pass"
   ]
  },
  {
   "cell_type": "code",
   "execution_count": 5,
   "metadata": {},
   "outputs": [
    {
     "name": "stdout",
     "output_type": "stream",
     "text": [
      "5\n",
      "6\n",
      "7\n",
      "8\n",
      "9\n"
     ]
    }
   ],
   "source": [
    "num = 5\n",
    "while num < 10:\n",
    "    print(num)\n",
    "    num += 1"
   ]
  },
  {
   "cell_type": "code",
   "execution_count": 8,
   "metadata": {},
   "outputs": [
    {
     "name": "stdout",
     "output_type": "stream",
     "text": [
      "1\n",
      "2\n",
      "3\n",
      "4\n",
      "5\n",
      "6\n",
      "7\n",
      "8\n",
      "9\n",
      "10\n",
      "DONE\n"
     ]
    }
   ],
   "source": [
    "keep_looping = True\n",
    "\n",
    "num = 1\n",
    "while keep_looping:\n",
    "    print(num)\n",
    "\n",
    "    if num == 10:\n",
    "        print(\"DONE\")\n",
    "        keep_looping = False\n",
    "\n",
    "    num += 1"
   ]
  },
  {
   "cell_type": "code",
   "execution_count": 3,
   "metadata": {},
   "outputs": [
    {
     "name": "stdout",
     "output_type": "stream",
     "text": [
      "2\n",
      "4\n",
      "5\n",
      "6\n",
      "7\n",
      "8\n",
      "9\n",
      "Done\n"
     ]
    }
   ],
   "source": [
    "num = 1\n",
    "while True:\n",
    "\n",
    "    if num == 3:\n",
    "        pass\n",
    "    elif num == 10:\n",
    "        print(\"Done\")\n",
    "        break\n",
    "    else:\n",
    "        print(num)\n",
    "\n",
    "    num += 1"
   ]
  },
  {
   "cell_type": "code",
   "execution_count": 17,
   "metadata": {},
   "outputs": [],
   "source": [
    "num = int(input(\"Please enter a number : \"))"
   ]
  },
  {
   "cell_type": "code",
   "execution_count": 18,
   "metadata": {},
   "outputs": [
    {
     "data": {
      "text/plain": [
       "489465499"
      ]
     },
     "execution_count": 18,
     "metadata": {},
     "output_type": "execute_result"
    }
   ],
   "source": [
    "num"
   ]
  },
  {
   "cell_type": "code",
   "execution_count": 19,
   "metadata": {},
   "outputs": [
    {
     "name": "stdout",
     "output_type": "stream",
     "text": [
      "First number is : 4 and last num is 9\n"
     ]
    }
   ],
   "source": [
    "\n",
    "copy_num = num\n",
    "\n",
    "while copy_num >= 10:\n",
    "    copy_num /= 10\n",
    "num = num%10\n",
    "print(f\"First number is : {int(copy_num)} and last num is {num}\")"
   ]
  },
  {
   "cell_type": "code",
   "execution_count": null,
   "metadata": {},
   "outputs": [],
   "source": []
  }
 ],
 "metadata": {
  "interpreter": {
   "hash": "3410afedb74081d81603511028deadddc25ba0f01c14e0cb891e2c2473f81884"
  },
  "kernelspec": {
   "display_name": "Python 3.8.8 64-bit",
   "language": "python",
   "name": "python3"
  },
  "language_info": {
   "codemirror_mode": {
    "name": "ipython",
    "version": 3
   },
   "file_extension": ".py",
   "mimetype": "text/x-python",
   "name": "python",
   "nbconvert_exporter": "python",
   "pygments_lexer": "ipython3",
   "version": "3.8.8"
  },
  "orig_nbformat": 4
 },
 "nbformat": 4,
 "nbformat_minor": 2
}
