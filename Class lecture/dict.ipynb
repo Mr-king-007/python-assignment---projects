{
 "cells": [
  {
   "cell_type": "markdown",
   "metadata": {},
   "source": [
    "Dict = {\n",
    "    \"key\" : \"value\",\n",
    "    \"key1\" : \"value\",\n",
    "    \"key2\" : \"value\",\n",
    "    \"key3\" : \"value\",\n",
    "    \"key4\" : \"value\",\n",
    "}\n",
    "\n",
    "=> keys cannot be similar, but values can be...\n",
    "=> these are ordered in nature but does not have an index value\n",
    "=> keys can be of any dataType but it is recommended to keep them as strings...\n",
    "=> you can get a value by calling a key\n",
    "=> values can be of any dataType whatsoever... no restrictinos here..."
   ]
  },
  {
   "cell_type": "code",
   "execution_count": 3,
   "metadata": {},
   "outputs": [
    {
     "data": {
      "text/plain": [
       "'Chirag16'"
      ]
     },
     "execution_count": 3,
     "metadata": {},
     "output_type": "execute_result"
    }
   ],
   "source": [
    "\"Chirag\"+str(16)"
   ]
  },
  {
   "cell_type": "code",
   "execution_count": 24,
   "metadata": {},
   "outputs": [],
   "source": [
    "lifeOfChirag = {\n",
    "    \"Name\" : \"Chirag\",\n",
    "    \"Age\" : 16,\n",
    "    \"Height\" : 5.3,\n",
    "    \"lovePy\" : True,\n",
    "    \"booksRead\" : (\"The 10X Rule\", \"The Law of Attraction\", \"Python 101\"),\n",
    "    \"thingsToBuy\" : [\"Milk\", \"eggs\", \"banana\", \"bateka\"],\n",
    "    \"gfsHad\" : {\"Manisha\", \"Shivani\", \"Megha\"}\n",
    "}"
   ]
  },
  {
   "cell_type": "code",
   "execution_count": 25,
   "metadata": {},
   "outputs": [
    {
     "data": {
      "text/plain": [
       "'Chirag'"
      ]
     },
     "execution_count": 25,
     "metadata": {},
     "output_type": "execute_result"
    }
   ],
   "source": [
    "lifeOfChirag[\"Name\"]"
   ]
  },
  {
   "cell_type": "code",
   "execution_count": 26,
   "metadata": {},
   "outputs": [
    {
     "data": {
      "text/plain": [
       "'Chirag'"
      ]
     },
     "execution_count": 26,
     "metadata": {},
     "output_type": "execute_result"
    }
   ],
   "source": [
    "lifeOfChirag.get(\"Name\")"
   ]
  },
  {
   "cell_type": "code",
   "execution_count": 27,
   "metadata": {},
   "outputs": [
    {
     "data": {
      "text/plain": [
       "'Python 101'"
      ]
     },
     "execution_count": 27,
     "metadata": {},
     "output_type": "execute_result"
    }
   ],
   "source": [
    "lifeOfChirag[\"booksRead\"][-1]"
   ]
  },
  {
   "cell_type": "code",
   "execution_count": 28,
   "metadata": {},
   "outputs": [
    {
     "data": {
      "text/plain": [
       "'bateka'"
      ]
     },
     "execution_count": 28,
     "metadata": {},
     "output_type": "execute_result"
    }
   ],
   "source": [
    "lifeOfChirag[\"thingsToBuy\"][-1]"
   ]
  },
  {
   "cell_type": "code",
   "execution_count": 29,
   "metadata": {},
   "outputs": [
    {
     "data": {
      "text/plain": [
       "{'Manisha', 'Megha', 'Shivani'}"
      ]
     },
     "execution_count": 29,
     "metadata": {},
     "output_type": "execute_result"
    }
   ],
   "source": [
    "lifeOfChirag[\"gfsHad\"]"
   ]
  },
  {
   "cell_type": "code",
   "execution_count": 31,
   "metadata": {},
   "outputs": [
    {
     "name": "stdout",
     "output_type": "stream",
     "text": [
      "The 10X Rule\n",
      "The Law of Attraction\n",
      "Python 101\n"
     ]
    }
   ],
   "source": [
    "for i in lifeOfChirag[\"booksRead\"]:\n",
    "    print(i)"
   ]
  },
  {
   "cell_type": "code",
   "execution_count": 32,
   "metadata": {},
   "outputs": [
    {
     "data": {
      "text/plain": [
       "7"
      ]
     },
     "execution_count": 32,
     "metadata": {},
     "output_type": "execute_result"
    }
   ],
   "source": [
    "len(lifeOfChirag)"
   ]
  },
  {
   "cell_type": "code",
   "execution_count": 33,
   "metadata": {},
   "outputs": [
    {
     "name": "stdout",
     "output_type": "stream",
     "text": [
      "True\n"
     ]
    }
   ],
   "source": [
    "if \"Name\" in lifeOfChirag:\n",
    "    print(True)\n",
    "else:\n",
    "    print(False)"
   ]
  },
  {
   "cell_type": "code",
   "execution_count": 44,
   "metadata": {},
   "outputs": [
    {
     "name": "stdout",
     "output_type": "stream",
     "text": [
      "True\n"
     ]
    }
   ],
   "source": [
    "for i in lifeOfChirag:\n",
    "    if i == \"Name\":\n",
    "        print(True)\n",
    "        break\n",
    "    else:\n",
    "        print(False)\n",
    "    \n",
    "    print(\"\\nI am here!\")"
   ]
  },
  {
   "cell_type": "code",
   "execution_count": 45,
   "metadata": {},
   "outputs": [
    {
     "name": "stdout",
     "output_type": "stream",
     "text": [
      "True\n"
     ]
    }
   ],
   "source": [
    "print(\"Name\" in lifeOfChirag)"
   ]
  },
  {
   "cell_type": "code",
   "execution_count": 47,
   "metadata": {},
   "outputs": [
    {
     "name": "stdout",
     "output_type": "stream",
     "text": [
      "The key does not exist\n"
     ]
    }
   ],
   "source": [
    "if \"Address\" in lifeOfChirag:\n",
    "    print(lifeOfChirag[\"Address\"])\n",
    "else:\n",
    "    print(\"The key does not exist\")"
   ]
  },
  {
   "cell_type": "code",
   "execution_count": 49,
   "metadata": {},
   "outputs": [
    {
     "ename": "KeyError",
     "evalue": "'Address'",
     "output_type": "error",
     "traceback": [
      "\u001b[1;31m---------------------------------------------------------------------------\u001b[0m",
      "\u001b[1;31mKeyError\u001b[0m                                  Traceback (most recent call last)",
      "\u001b[1;32m~\\AppData\\Local\\Temp/ipykernel_13300/935440434.py\u001b[0m in \u001b[0;36m<module>\u001b[1;34m\u001b[0m\n\u001b[1;32m----> 1\u001b[1;33m \u001b[0mlifeOfChirag\u001b[0m\u001b[1;33m[\u001b[0m\u001b[1;34m\"Address\"\u001b[0m\u001b[1;33m]\u001b[0m\u001b[1;33m\u001b[0m\u001b[1;33m\u001b[0m\u001b[0m\n\u001b[0m",
      "\u001b[1;31mKeyError\u001b[0m: 'Address'"
     ]
    }
   ],
   "source": [
    "lifeOfChirag[\"Address\"]"
   ]
  },
  {
   "cell_type": "code",
   "execution_count": 50,
   "metadata": {},
   "outputs": [
    {
     "data": {
      "text/plain": [
       "'Chirag'"
      ]
     },
     "execution_count": 50,
     "metadata": {},
     "output_type": "execute_result"
    }
   ],
   "source": [
    "lifeOfChirag[\"Name\"]"
   ]
  },
  {
   "cell_type": "code",
   "execution_count": 51,
   "metadata": {},
   "outputs": [
    {
     "data": {
      "text/plain": [
       "'Maulik ka ghar usika ghar hai'"
      ]
     },
     "execution_count": 51,
     "metadata": {},
     "output_type": "execute_result"
    }
   ],
   "source": [
    "lifeOfChirag.setdefault(\"Address\", \"Maulik ka ghar usika ghar hai\")"
   ]
  },
  {
   "cell_type": "code",
   "execution_count": 52,
   "metadata": {},
   "outputs": [
    {
     "data": {
      "text/plain": [
       "{'Name': 'Chirag',\n",
       " 'Age': 16,\n",
       " 'Height': 5.3,\n",
       " 'lovePy': True,\n",
       " 'booksRead': ('The 10X Rule', 'The Law of Attraction', 'Python 101'),\n",
       " 'thingsToBuy': ['Milk', 'eggs', 'banana', 'bateka'],\n",
       " 'gfsHad': {'Manisha', 'Megha', 'Shivani'},\n",
       " 'Address': 'Maulik ka ghar usika ghar hai'}"
      ]
     },
     "execution_count": 52,
     "metadata": {},
     "output_type": "execute_result"
    }
   ],
   "source": [
    "lifeOfChirag"
   ]
  },
  {
   "cell_type": "code",
   "execution_count": 53,
   "metadata": {},
   "outputs": [
    {
     "data": {
      "text/plain": [
       "'Maulik ka ghar usika ghar hai'"
      ]
     },
     "execution_count": 53,
     "metadata": {},
     "output_type": "execute_result"
    }
   ],
   "source": [
    "lifeOfChirag[\"Address\"]"
   ]
  },
  {
   "cell_type": "code",
   "execution_count": 54,
   "metadata": {},
   "outputs": [
    {
     "data": {
      "text/plain": [
       "'Maulik ka ghar usika ghar hai'"
      ]
     },
     "execution_count": 54,
     "metadata": {},
     "output_type": "execute_result"
    }
   ],
   "source": [
    "lifeOfChirag.get(\"Address\")"
   ]
  },
  {
   "cell_type": "code",
   "execution_count": 56,
   "metadata": {},
   "outputs": [
    {
     "data": {
      "text/plain": [
       "{'Name': 'Chirag',\n",
       " 'Age': 16,\n",
       " 'Height': 5.3,\n",
       " 'lovePy': True,\n",
       " 'booksRead': ('The 10X Rule', 'The Law of Attraction', 'Python 101'),\n",
       " 'thingsToBuy': ['Milk', 'eggs', 'banana', 'bateka'],\n",
       " 'gfsHad': {'Manisha', 'Megha', 'Shivani'},\n",
       " 'Address': 'Maulik ka ghar usika ghar hai'}"
      ]
     },
     "execution_count": 56,
     "metadata": {},
     "output_type": "execute_result"
    }
   ],
   "source": [
    "lifeOfChirag"
   ]
  },
  {
   "cell_type": "code",
   "execution_count": 62,
   "metadata": {},
   "outputs": [],
   "source": [
    "lifeOfChirag[\"carNumber\"] = \"GJ36IC0111\""
   ]
  },
  {
   "cell_type": "code",
   "execution_count": 63,
   "metadata": {},
   "outputs": [
    {
     "data": {
      "text/plain": [
       "{'Name': 'Chirag',\n",
       " 'Age': 16,\n",
       " 'Height': 5.3,\n",
       " 'lovePy': True,\n",
       " 'booksRead': ('The 10X Rule', 'The Law of Attraction', 'Python 101'),\n",
       " 'thingsToBuy': ['Milk', 'eggs', 'banana', 'bateka'],\n",
       " 'gfsHad': {'Manisha', 'Megha', 'Shivani'},\n",
       " 'Address': 'Maulik ka ghar usika ghar hai',\n",
       " 'carNumber': 'GJ36IC0111',\n",
       " 'bikeNumber': 'UP83AF5633'}"
      ]
     },
     "execution_count": 63,
     "metadata": {},
     "output_type": "execute_result"
    }
   ],
   "source": [
    "lifeOfChirag"
   ]
  },
  {
   "cell_type": "code",
   "execution_count": 64,
   "metadata": {},
   "outputs": [],
   "source": [
    "lifeOfChirag.update({\"bikeNumber\" : \"UP83AF5633\"})"
   ]
  },
  {
   "cell_type": "code",
   "execution_count": 65,
   "metadata": {},
   "outputs": [
    {
     "data": {
      "text/plain": [
       "{'Name': 'Chirag',\n",
       " 'Age': 16,\n",
       " 'Height': 5.3,\n",
       " 'lovePy': True,\n",
       " 'booksRead': ('The 10X Rule', 'The Law of Attraction', 'Python 101'),\n",
       " 'thingsToBuy': ['Milk', 'eggs', 'banana', 'bateka'],\n",
       " 'gfsHad': {'Manisha', 'Megha', 'Shivani'},\n",
       " 'Address': 'Maulik ka ghar usika ghar hai',\n",
       " 'carNumber': 'GJ36IC0111',\n",
       " 'bikeNumber': 'UP83AF5633'}"
      ]
     },
     "execution_count": 65,
     "metadata": {},
     "output_type": "execute_result"
    }
   ],
   "source": [
    "lifeOfChirag"
   ]
  },
  {
   "cell_type": "code",
   "execution_count": 70,
   "metadata": {},
   "outputs": [],
   "source": [
    "lifeOfChirag[\"carNumber\"] = \"GJ03KJ6592\""
   ]
  },
  {
   "cell_type": "code",
   "execution_count": 71,
   "metadata": {},
   "outputs": [
    {
     "data": {
      "text/plain": [
       "{'Name': 'Chirag',\n",
       " 'Age': 16,\n",
       " 'Height': 5.3,\n",
       " 'lovePy': True,\n",
       " 'booksRead': ('The 10X Rule', 'The Law of Attraction', 'Python 101'),\n",
       " 'thingsToBuy': ['Milk', 'eggs', 'banana', 'bateka'],\n",
       " 'gfsHad': {'Manisha', 'Megha', 'Shivani'},\n",
       " 'Address': 'Maulik ka ghar usika ghar hai',\n",
       " 'carNumber': 'GJ03KJ6592',\n",
       " 'bikeNumber': 'GJ18CB0758'}"
      ]
     },
     "execution_count": 71,
     "metadata": {},
     "output_type": "execute_result"
    }
   ],
   "source": [
    "lifeOfChirag"
   ]
  },
  {
   "cell_type": "code",
   "execution_count": 72,
   "metadata": {},
   "outputs": [],
   "source": [
    "lifeOfChirag.update({\"bikeNumber\" : \"GJ15AB8564\"})"
   ]
  },
  {
   "cell_type": "code",
   "execution_count": 73,
   "metadata": {},
   "outputs": [
    {
     "data": {
      "text/plain": [
       "{'Name': 'Chirag',\n",
       " 'Age': 16,\n",
       " 'Height': 5.3,\n",
       " 'lovePy': True,\n",
       " 'booksRead': ('The 10X Rule', 'The Law of Attraction', 'Python 101'),\n",
       " 'thingsToBuy': ['Milk', 'eggs', 'banana', 'bateka'],\n",
       " 'gfsHad': {'Manisha', 'Megha', 'Shivani'},\n",
       " 'Address': 'Maulik ka ghar usika ghar hai',\n",
       " 'carNumber': 'GJ03KJ6592',\n",
       " 'bikeNumber': 'GJ15AB8564'}"
      ]
     },
     "execution_count": 73,
     "metadata": {},
     "output_type": "execute_result"
    }
   ],
   "source": [
    "lifeOfChirag"
   ]
  },
  {
   "cell_type": "code",
   "execution_count": 74,
   "metadata": {},
   "outputs": [
    {
     "data": {
      "text/plain": [
       "10"
      ]
     },
     "execution_count": 74,
     "metadata": {},
     "output_type": "execute_result"
    }
   ],
   "source": [
    "len(lifeOfChirag)"
   ]
  },
  {
   "cell_type": "code",
   "execution_count": 75,
   "metadata": {},
   "outputs": [
    {
     "name": "stdout",
     "output_type": "stream",
     "text": [
      "dict_keys(['Name', 'Age', 'Height', 'lovePy', 'booksRead', 'thingsToBuy', 'gfsHad', 'Address', 'carNumber', 'bikeNumber'])\n"
     ]
    }
   ],
   "source": [
    "print(lifeOfChirag.keys())"
   ]
  },
  {
   "cell_type": "code",
   "execution_count": 76,
   "metadata": {},
   "outputs": [
    {
     "name": "stdout",
     "output_type": "stream",
     "text": [
      "dict_values(['Chirag', 16, 5.3, True, ('The 10X Rule', 'The Law of Attraction', 'Python 101'), ['Milk', 'eggs', 'banana', 'bateka'], {'Megha', 'Shivani', 'Manisha'}, 'Maulik ka ghar usika ghar hai', 'GJ03KJ6592', 'GJ15AB8564'])\n"
     ]
    }
   ],
   "source": [
    "print(lifeOfChirag.values())"
   ]
  },
  {
   "cell_type": "code",
   "execution_count": 77,
   "metadata": {},
   "outputs": [
    {
     "name": "stdout",
     "output_type": "stream",
     "text": [
      "dict_items([('Name', 'Chirag'), ('Age', 16), ('Height', 5.3), ('lovePy', True), ('booksRead', ('The 10X Rule', 'The Law of Attraction', 'Python 101')), ('thingsToBuy', ['Milk', 'eggs', 'banana', 'bateka']), ('gfsHad', {'Megha', 'Shivani', 'Manisha'}), ('Address', 'Maulik ka ghar usika ghar hai'), ('carNumber', 'GJ03KJ6592'), ('bikeNumber', 'GJ15AB8564')])\n"
     ]
    }
   ],
   "source": [
    "print(lifeOfChirag.items())"
   ]
  },
  {
   "cell_type": "code",
   "execution_count": 78,
   "metadata": {},
   "outputs": [
    {
     "name": "stdout",
     "output_type": "stream",
     "text": [
      "Name\n",
      "Age\n",
      "Height\n",
      "lovePy\n",
      "booksRead\n",
      "thingsToBuy\n",
      "gfsHad\n",
      "Address\n",
      "carNumber\n",
      "bikeNumber\n"
     ]
    }
   ],
   "source": [
    "for k in lifeOfChirag.keys():\n",
    "    print(k)"
   ]
  },
  {
   "cell_type": "code",
   "execution_count": 79,
   "metadata": {},
   "outputs": [
    {
     "name": "stdout",
     "output_type": "stream",
     "text": [
      "Chirag\n",
      "16\n",
      "5.3\n",
      "True\n",
      "('The 10X Rule', 'The Law of Attraction', 'Python 101')\n",
      "['Milk', 'eggs', 'banana', 'bateka']\n",
      "{'Megha', 'Shivani', 'Manisha'}\n",
      "Maulik ka ghar usika ghar hai\n",
      "GJ03KJ6592\n",
      "GJ15AB8564\n"
     ]
    }
   ],
   "source": [
    "for v in lifeOfChirag.values():\n",
    "    print(v)"
   ]
  },
  {
   "cell_type": "code",
   "execution_count": 80,
   "metadata": {},
   "outputs": [],
   "source": [
    "lifeOfChirag[\"Kuch bhi\"] = None"
   ]
  },
  {
   "cell_type": "code",
   "execution_count": 82,
   "metadata": {},
   "outputs": [
    {
     "data": {
      "text/plain": [
       "NoneType"
      ]
     },
     "execution_count": 82,
     "metadata": {},
     "output_type": "execute_result"
    }
   ],
   "source": [
    "type(None)"
   ]
  },
  {
   "cell_type": "code",
   "execution_count": 83,
   "metadata": {},
   "outputs": [
    {
     "name": "stdout",
     "output_type": "stream",
     "text": [
      "Chirag\n",
      "16\n",
      "5.3\n",
      "True\n",
      "('The 10X Rule', 'The Law of Attraction', 'Python 101')\n",
      "['Milk', 'eggs', 'banana', 'bateka']\n",
      "{'Megha', 'Shivani', 'Manisha'}\n",
      "Maulik ka ghar usika ghar hai\n",
      "GJ03KJ6592\n",
      "GJ15AB8564\n",
      "None\n"
     ]
    }
   ],
   "source": [
    "for v in lifeOfChirag.values():\n",
    "    print(v) "
   ]
  },
  {
   "cell_type": "code",
   "execution_count": 90,
   "metadata": {},
   "outputs": [
    {
     "name": "stdout",
     "output_type": "stream",
     "text": [
      "Nam \t\t Chirag\n",
      "Age \t\t 16\n",
      "Hei \t\t 5.3\n",
      "lov \t\t True\n",
      "boo \t\t ('The 10X Rule', 'The Law of Attraction', 'Python 101')\n",
      "thi \t\t ['Milk', 'eggs', 'banana', 'bateka']\n",
      "gfs \t\t {'Megha', 'Shivani', 'Manisha'}\n",
      "Add \t\t Maulik ka ghar usika ghar hai\n",
      "car \t\t GJ03KJ6592\n",
      "bik \t\t GJ15AB8564\n",
      "Kuc \t\t None\n"
     ]
    }
   ],
   "source": [
    "for k, v in lifeOfChirag.items():\n",
    "    print(k[:3], \"\\t\\t\", v)"
   ]
  },
  {
   "cell_type": "code",
   "execution_count": 98,
   "metadata": {},
   "outputs": [
    {
     "name": "stdout",
     "output_type": "stream",
     "text": [
      "Nam \t\t Chi\n",
      "Age \t\t 16\n",
      "Hei \t\t 5.3\n",
      "lov \t\t True\n",
      "boo \t\t ('The 10X Rule', 'The Law of Attraction', 'Python 101')\n",
      "thi \t\t ['Milk', 'eggs', 'banana']\n",
      "gfs \t\t {'Megha', 'Shivani', 'Manisha'}\n",
      "Add \t\t Mau\n",
      "car \t\t GJ0\n",
      "bik \t\t GJ1\n",
      "Kuc \t\t None\n"
     ]
    }
   ],
   "source": [
    "# Jatin's Solution\n",
    "for k, v in lifeOfChirag.items():\n",
    "    if type(v) == str or type(v) == tuple or type(v) == list:\n",
    "        print(k[:3], \"\\t\\t\", v[:3])\n",
    "    else:\n",
    "        print(k[:3], \"\\t\\t\", v)\n"
   ]
  },
  {
   "cell_type": "code",
   "execution_count": 93,
   "metadata": {},
   "outputs": [
    {
     "name": "stdout",
     "output_type": "stream",
     "text": [
      "Nam \t\t Chirag\n",
      "Age \t\t 16\n",
      "Hei \t\t 5.3\n",
      "lov \t\t True\n",
      "boo \t\t ('The 10X Rule', 'The Law of Attraction', 'Python 101')\n",
      "thi \t\t ['Milk', 'eggs', 'banana', 'bateka']\n",
      "gfs \t\t {'Megha', 'Shivani', 'Manisha'}\n",
      "Add \t\t Maulik ka ghar usika ghar hai\n",
      "car \t\t GJ03KJ6592\n",
      "bik \t\t GJ15AB8564\n",
      "Kuc \t\t None\n"
     ]
    }
   ],
   "source": [
    "# Ashwini's solution\n",
    "for k, v in lifeOfChirag.items():\n",
    "    if v == str:\n",
    "        print(k[:3], \"\\t\\t\", v[:3])\n",
    "    else:\n",
    "        print(k[:3], \"\\t\\t\", v)"
   ]
  },
  {
   "cell_type": "code",
   "execution_count": 92,
   "metadata": {},
   "outputs": [
    {
     "name": "stdout",
     "output_type": "stream",
     "text": [
      "Nam \t\t Chi\n"
     ]
    },
    {
     "ename": "TypeError",
     "evalue": "'int' object is not subscriptable",
     "output_type": "error",
     "traceback": [
      "\u001b[1;31m---------------------------------------------------------------------------\u001b[0m",
      "\u001b[1;31mTypeError\u001b[0m                                 Traceback (most recent call last)",
      "\u001b[1;32m~\\AppData\\Local\\Temp/ipykernel_13300/538066568.py\u001b[0m in \u001b[0;36m<module>\u001b[1;34m\u001b[0m\n\u001b[0;32m      1\u001b[0m \u001b[1;31m# Aanal's solution\u001b[0m\u001b[1;33m\u001b[0m\u001b[1;33m\u001b[0m\u001b[1;33m\u001b[0m\u001b[0m\n\u001b[0;32m      2\u001b[0m \u001b[1;32mfor\u001b[0m \u001b[0mk\u001b[0m\u001b[1;33m,\u001b[0m \u001b[0mv\u001b[0m \u001b[1;32min\u001b[0m \u001b[0mlifeOfChirag\u001b[0m\u001b[1;33m.\u001b[0m\u001b[0mitems\u001b[0m\u001b[1;33m(\u001b[0m\u001b[1;33m)\u001b[0m\u001b[1;33m:\u001b[0m\u001b[1;33m\u001b[0m\u001b[1;33m\u001b[0m\u001b[0m\n\u001b[1;32m----> 3\u001b[1;33m     \u001b[0mprint\u001b[0m\u001b[1;33m(\u001b[0m\u001b[0mk\u001b[0m\u001b[1;33m[\u001b[0m\u001b[1;33m:\u001b[0m\u001b[1;36m3\u001b[0m\u001b[1;33m]\u001b[0m\u001b[1;33m,\u001b[0m \u001b[1;34m\"\\t\\t\"\u001b[0m\u001b[1;33m,\u001b[0m \u001b[0mv\u001b[0m\u001b[1;33m[\u001b[0m\u001b[1;33m:\u001b[0m\u001b[1;36m3\u001b[0m\u001b[1;33m]\u001b[0m\u001b[1;33m)\u001b[0m\u001b[1;33m\u001b[0m\u001b[1;33m\u001b[0m\u001b[0m\n\u001b[0m",
      "\u001b[1;31mTypeError\u001b[0m: 'int' object is not subscriptable"
     ]
    }
   ],
   "source": [
    "# Aanal's solution\n",
    "for k, v in lifeOfChirag.items():\n",
    "    print(k[:3], \"\\t\\t\", v[:3])"
   ]
  },
  {
   "cell_type": "code",
   "execution_count": 91,
   "metadata": {},
   "outputs": [
    {
     "name": "stdout",
     "output_type": "stream",
     "text": [
      "Nam \t\t\n",
      "Chirag\n",
      "Age \t\t\n",
      "16\n",
      "Hei \t\t\n",
      "5.3\n",
      "lov \t\t\n",
      "True\n",
      "boo \t\t\n",
      "('The 10X Rule', 'The Law of Attraction', 'Python 101')\n",
      "thi \t\t\n",
      "['Milk', 'eggs', 'banana', 'bateka']\n",
      "gfs \t\t\n",
      "{'Megha', 'Shivani', 'Manisha'}\n",
      "Add \t\t\n",
      "Maulik ka ghar usika ghar hai\n",
      "car \t\t\n",
      "GJ03KJ6592\n",
      "bik \t\t\n",
      "GJ15AB8564\n",
      "Kuc \t\t\n",
      "None\n"
     ]
    }
   ],
   "source": [
    "# Chirag Solution\n",
    "\n",
    "for k, v in lifeOfChirag.items():\n",
    "    print(k[:3], \"\\t\\t\")\n",
    "    if v == str:\n",
    "        print(v[:3])\n",
    "    else:\n",
    "        print(v)"
   ]
  },
  {
   "cell_type": "code",
   "execution_count": 99,
   "metadata": {},
   "outputs": [],
   "source": [
    "lifeOfChiragReturns = lifeOfChirag.copy()"
   ]
  },
  {
   "cell_type": "code",
   "execution_count": 100,
   "metadata": {},
   "outputs": [
    {
     "data": {
      "text/plain": [
       "{'Name': 'Chirag',\n",
       " 'Age': 16,\n",
       " 'Height': 5.3,\n",
       " 'lovePy': True,\n",
       " 'booksRead': ('The 10X Rule', 'The Law of Attraction', 'Python 101'),\n",
       " 'thingsToBuy': ['Milk', 'eggs', 'banana', 'bateka'],\n",
       " 'gfsHad': {'Manisha', 'Megha', 'Shivani'},\n",
       " 'Address': 'Maulik ka ghar usika ghar hai',\n",
       " 'carNumber': 'GJ03KJ6592',\n",
       " 'bikeNumber': 'GJ15AB8564',\n",
       " 'Kuch bhi': None}"
      ]
     },
     "execution_count": 100,
     "metadata": {},
     "output_type": "execute_result"
    }
   ],
   "source": [
    "lifeOfChiragReturns"
   ]
  },
  {
   "cell_type": "code",
   "execution_count": 101,
   "metadata": {},
   "outputs": [],
   "source": [
    "lifeOfChiragReturns.clear()"
   ]
  },
  {
   "cell_type": "code",
   "execution_count": 102,
   "metadata": {},
   "outputs": [
    {
     "data": {
      "text/plain": [
       "{}"
      ]
     },
     "execution_count": 102,
     "metadata": {},
     "output_type": "execute_result"
    }
   ],
   "source": [
    "lifeOfChiragReturns"
   ]
  },
  {
   "cell_type": "code",
   "execution_count": 103,
   "metadata": {},
   "outputs": [
    {
     "data": {
      "text/plain": [
       "{'Manisha', 'Megha', 'Shivani'}"
      ]
     },
     "execution_count": 103,
     "metadata": {},
     "output_type": "execute_result"
    }
   ],
   "source": [
    "lifeOfChirag.pop(\"gfsHad\")"
   ]
  },
  {
   "cell_type": "code",
   "execution_count": 104,
   "metadata": {},
   "outputs": [
    {
     "data": {
      "text/plain": [
       "{'Name': 'Chirag',\n",
       " 'Age': 16,\n",
       " 'Height': 5.3,\n",
       " 'lovePy': True,\n",
       " 'booksRead': ('The 10X Rule', 'The Law of Attraction', 'Python 101'),\n",
       " 'thingsToBuy': ['Milk', 'eggs', 'banana', 'bateka'],\n",
       " 'Address': 'Maulik ka ghar usika ghar hai',\n",
       " 'carNumber': 'GJ03KJ6592',\n",
       " 'bikeNumber': 'GJ15AB8564',\n",
       " 'Kuch bhi': None}"
      ]
     },
     "execution_count": 104,
     "metadata": {},
     "output_type": "execute_result"
    }
   ],
   "source": [
    "lifeOfChirag"
   ]
  },
  {
   "cell_type": "code",
   "execution_count": 26,
   "metadata": {},
   "outputs": [
    {
     "ename": "KeyError",
     "evalue": "'gfsHad'",
     "output_type": "error",
     "traceback": [
      "\u001b[1;31m---------------------------------------------------------------------------\u001b[0m",
      "\u001b[1;31mKeyError\u001b[0m                                  Traceback (most recent call last)",
      "\u001b[1;32m~\\AppData\\Local\\Temp/ipykernel_9944/3968511069.py\u001b[0m in \u001b[0;36m<module>\u001b[1;34m\u001b[0m\n\u001b[1;32m----> 1\u001b[1;33m \u001b[0mlifeOfChirag\u001b[0m\u001b[1;33m.\u001b[0m\u001b[0mpop\u001b[0m\u001b[1;33m(\u001b[0m\u001b[1;34m\"gfsHad\"\u001b[0m\u001b[1;33m)\u001b[0m\u001b[1;33m\u001b[0m\u001b[1;33m\u001b[0m\u001b[0m\n\u001b[0m",
      "\u001b[1;31mKeyError\u001b[0m: 'gfsHad'"
     ]
    }
   ],
   "source": [
    "lifeOfChirag.pop(\"gfsHad\")"
   ]
  },
  {
   "cell_type": "code",
   "execution_count": 27,
   "metadata": {},
   "outputs": [],
   "source": [
    "if \"gfsHad\" in lifeOfChirag:\n",
    "    print(lifeOfChirag[\"gfsHad\"])"
   ]
  },
  {
   "cell_type": "code",
   "execution_count": 28,
   "metadata": {},
   "outputs": [
    {
     "name": "stdout",
     "output_type": "stream",
     "text": [
      "False\n"
     ]
    }
   ],
   "source": [
    "print(\"gfsHad\" in lifeOfChirag)"
   ]
  },
  {
   "cell_type": "code",
   "execution_count": 105,
   "metadata": {},
   "outputs": [],
   "source": [
    "myDict = {}"
   ]
  },
  {
   "cell_type": "code",
   "execution_count": 106,
   "metadata": {},
   "outputs": [],
   "source": [
    "lst = [1,2,3,4,5,6]"
   ]
  },
  {
   "cell_type": "code",
   "execution_count": 107,
   "metadata": {},
   "outputs": [],
   "source": [
    "name = \"maulik\".upper()"
   ]
  },
  {
   "cell_type": "code",
   "execution_count": 109,
   "metadata": {},
   "outputs": [
    {
     "data": {
      "text/plain": [
       "{'M': 123, 'A': 123, 'U': 123, 'L': 123, 'I': 123, 'K': 123}"
      ]
     },
     "execution_count": 109,
     "metadata": {},
     "output_type": "execute_result"
    }
   ],
   "source": [
    "myDict.fromkeys(name, 123)"
   ]
  },
  {
   "cell_type": "code",
   "execution_count": 91,
   "metadata": {},
   "outputs": [],
   "source": []
  },
  {
   "cell_type": "code",
   "execution_count": 110,
   "metadata": {},
   "outputs": [],
   "source": [
    "lst1 = set(lst)"
   ]
  },
  {
   "cell_type": "code",
   "execution_count": 111,
   "metadata": {},
   "outputs": [
    {
     "data": {
      "text/plain": [
       "{1, 2, 3, 4, 5, 6}"
      ]
     },
     "execution_count": 111,
     "metadata": {},
     "output_type": "execute_result"
    }
   ],
   "source": [
    "lst1"
   ]
  },
  {
   "cell_type": "code",
   "execution_count": 113,
   "metadata": {},
   "outputs": [],
   "source": [
    "lst = ['Maulik', 'Ashwini', 'Neel', 'Ashish', 'Chirag', 'Jatin', 'Aanal']"
   ]
  },
  {
   "cell_type": "code",
   "execution_count": 114,
   "metadata": {},
   "outputs": [],
   "source": [
    "mydict = {}\n",
    "mydict = mydict.fromkeys(lst)"
   ]
  },
  {
   "cell_type": "code",
   "execution_count": 115,
   "metadata": {},
   "outputs": [
    {
     "data": {
      "text/plain": [
       "{'Maulik': None,\n",
       " 'Ashwini': None,\n",
       " 'Neel': None,\n",
       " 'Ashish': None,\n",
       " 'Chirag': None,\n",
       " 'Jatin': None,\n",
       " 'Aanal': None}"
      ]
     },
     "execution_count": 115,
     "metadata": {},
     "output_type": "execute_result"
    }
   ],
   "source": [
    "mydict"
   ]
  },
  {
   "cell_type": "code",
   "execution_count": 118,
   "metadata": {},
   "outputs": [],
   "source": [
    "new_lst_1  = [i for i in mydict]"
   ]
  },
  {
   "cell_type": "code",
   "execution_count": 116,
   "metadata": {},
   "outputs": [],
   "source": [
    "new_lst = []\n",
    "for i in mydict:\n",
    "    new_lst.append(i)"
   ]
  },
  {
   "cell_type": "code",
   "execution_count": 117,
   "metadata": {},
   "outputs": [
    {
     "data": {
      "text/plain": [
       "['Maulik', 'Ashwini', 'Neel', 'Ashish', 'Chirag', 'Jatin', 'Aanal']"
      ]
     },
     "execution_count": 117,
     "metadata": {},
     "output_type": "execute_result"
    }
   ],
   "source": [
    "new_lst"
   ]
  },
  {
   "cell_type": "code",
   "execution_count": 119,
   "metadata": {},
   "outputs": [
    {
     "data": {
      "text/plain": [
       "['Maulik', 'Ashwini', 'Neel', 'Ashish', 'Chirag', 'Jatin', 'Aanal']"
      ]
     },
     "execution_count": 119,
     "metadata": {},
     "output_type": "execute_result"
    }
   ],
   "source": [
    "new_lst_1"
   ]
  },
  {
   "cell_type": "code",
   "execution_count": 104,
   "metadata": {},
   "outputs": [],
   "source": [
    "lst = [\"A\", \"B\", \"C\", \"D\", \"E\"]"
   ]
  },
  {
   "cell_type": "code",
   "execution_count": 107,
   "metadata": {},
   "outputs": [],
   "source": [
    "mynewdict = {}\n",
    "mynewdict = mynewdict.fromkeys(lst)"
   ]
  },
  {
   "cell_type": "code",
   "execution_count": 108,
   "metadata": {},
   "outputs": [
    {
     "data": {
      "text/plain": [
       "{'A': None, 'B': None, 'C': None, 'D': None, 'E': None}"
      ]
     },
     "execution_count": 108,
     "metadata": {},
     "output_type": "execute_result"
    }
   ],
   "source": [
    "mynewdict"
   ]
  },
  {
   "cell_type": "code",
   "execution_count": 101,
   "metadata": {},
   "outputs": [],
   "source": [
    "mydict[\"Neel\"] = [1,2,3,4,5]"
   ]
  },
  {
   "cell_type": "code",
   "execution_count": 103,
   "metadata": {},
   "outputs": [
    {
     "data": {
      "text/plain": [
       "5"
      ]
     },
     "execution_count": 103,
     "metadata": {},
     "output_type": "execute_result"
    }
   ],
   "source": [
    "mydict[\"Neel\"][-1]"
   ]
  },
  {
   "cell_type": "code",
   "execution_count": 98,
   "metadata": {},
   "outputs": [
    {
     "data": {
      "text/plain": [
       "'Aanal'"
      ]
     },
     "execution_count": 98,
     "metadata": {},
     "output_type": "execute_result"
    }
   ],
   "source": [
    "lst[-1]"
   ]
  },
  {
   "cell_type": "code",
   "execution_count": null,
   "metadata": {},
   "outputs": [],
   "source": []
  },
  {
   "cell_type": "markdown",
   "metadata": {},
   "source": [
    "nakamiDict = {}\n",
    "\n",
    "keys = [\"Name\", \"age\", \"gen\", \"lst1\", \"tuple1\", \"set1\", \"innerDict\"]\n",
    "values = [\"Maulik\", 27, \"M\", \"[A, B, C, D, {\"lk1\" : {A, B, c, D, e}}]\", \"(a, b, c, d, e)\", \"{1,2,3,4,5}\", \"{\"k1\" : \"v1\", \"k2\" : {\"l1\" : [A, B, c, D, e]}}\"]\n",
    "\n",
    "\n",
    "slicing = 'e'\n",
    "\n",
    "nakamiDict = {\n",
    "    \"name\" : \"Maulik\",\n",
    "    \"age\" : 27, \n",
    "    \"gen\" : \"M\",\n",
    "    \"lst1\" : [A, B, C, D, {\n",
    "            \"lk1\" : {A, B, c, D, e}\n",
    "        }\n",
    "    ],\n",
    "    \"tuple1\" : (a, b, c, d, e),\n",
    "    \"set1\" : {1,2,3,4,5},\n",
    "    \"innerDict\" : {\n",
    "        \"k1\" : \"v1\",\n",
    "        \"k2\" : {\n",
    "            \"l1\" : [A, B, c, D, e],\n",
    "        }\n",
    "    }\n",
    "}"
   ]
  },
  {
   "cell_type": "code",
   "execution_count": 117,
   "metadata": {},
   "outputs": [],
   "source": [
    "nakamiDict = {\n",
    "    \"name\" : \"Maulik\",\n",
    "    \"age\" : 27, \n",
    "    \"gen\" : \"M\",\n",
    "    \"lst1\" : [\"A\", \"B\", \"C\", \"D\", {\n",
    "            \"lk1\" : {\"A\", \"B\", \"c\", \"D\", 'e'}\n",
    "        }\n",
    "    ],\n",
    "    \"tuple1\" : (\"a\", \"b\", \"c\", \"d\", \"e\"),\n",
    "    \"set1\" : {1,2,3,4,5},\n",
    "    \"innerDict\" : {\n",
    "        \"k1\" : \"v1\",\n",
    "        \"k2\" : {\n",
    "            \"l1\" : [\"A\", \"B\", \"c\", \"D\", \"e\"],\n",
    "        }\n",
    "    }\n",
    "}"
   ]
  },
  {
   "cell_type": "code",
   "execution_count": 118,
   "metadata": {},
   "outputs": [
    {
     "data": {
      "text/plain": [
       "{'name': 'Maulik',\n",
       " 'age': 27,\n",
       " 'gen': 'M',\n",
       " 'lst1': ['A', 'B', 'C', 'D', {'lk1': {'A', 'B', 'D', 'c', 'e'}}],\n",
       " 'tuple1': ('a', 'b', 'c', 'd', 'e'),\n",
       " 'set1': {1, 2, 3, 4, 5},\n",
       " 'innerDict': {'k1': 'v1', 'k2': {'l1': ['A', 'B', 'c', 'D', 'e']}}}"
      ]
     },
     "execution_count": 118,
     "metadata": {},
     "output_type": "execute_result"
    }
   ],
   "source": [
    "nakamiDict"
   ]
  },
  {
   "cell_type": "code",
   "execution_count": 115,
   "metadata": {},
   "outputs": [],
   "source": [
    "# l_keys = [\"Name\", \"age\", \"gen\", \"lst1\", \"tuple1\", \"set1\", \"innerDict\"]\n",
    "# va = [\"Maulik\", 27, \"M\", \"[A, B, C, D, {\"lk1\" : {A, B, c, D, e}}]\", \"(a, b, c, d, e)\", \"{1,2,3,4,5}\", \"{\"k1\" : \"v1\", \"k2\" : {\"l1\" : [A, B, c, D, e]}}\"]\n",
    "# nakamiDict = {}\n",
    "# nakamiDict = nakamiDict.fromkeys(l_keys, va)"
   ]
  },
  {
   "cell_type": "code",
   "execution_count": 110,
   "metadata": {},
   "outputs": [
    {
     "data": {
      "text/plain": [
       "{'Name': None,\n",
       " 'age': None,\n",
       " 'gen': None,\n",
       " 'lst1': None,\n",
       " 'tuple1': None,\n",
       " 'set1': None,\n",
       " 'innerDict': None}"
      ]
     },
     "execution_count": 110,
     "metadata": {},
     "output_type": "execute_result"
    }
   ],
   "source": [
    "nakamiDict"
   ]
  },
  {
   "cell_type": "code",
   "execution_count": null,
   "metadata": {},
   "outputs": [],
   "source": []
  }
 ],
 "metadata": {
  "interpreter": {
   "hash": "3410afedb74081d81603511028deadddc25ba0f01c14e0cb891e2c2473f81884"
  },
  "kernelspec": {
   "display_name": "Python 3.8.8 64-bit",
   "language": "python",
   "name": "python3"
  },
  "language_info": {
   "codemirror_mode": {
    "name": "ipython",
    "version": 3
   },
   "file_extension": ".py",
   "mimetype": "text/x-python",
   "name": "python",
   "nbconvert_exporter": "python",
   "pygments_lexer": "ipython3",
   "version": "3.8.8"
  },
  "orig_nbformat": 4
 },
 "nbformat": 4,
 "nbformat_minor": 2
}
