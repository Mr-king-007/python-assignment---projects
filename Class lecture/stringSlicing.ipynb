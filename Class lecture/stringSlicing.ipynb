{
 "cells": [
  {
   "cell_type": "markdown",
   "metadata": {},
   "source": [
    "## Slicing => string[start:stop:step]"
   ]
  },
  {
   "cell_type": "code",
   "execution_count": 1,
   "metadata": {},
   "outputs": [],
   "source": [
    "stri = \"Hello, my name is Maulik Raja and I am a Python+Django faculty at Tops Technologies CG Road.\""
   ]
  },
  {
   "cell_type": "code",
   "execution_count": 18,
   "metadata": {},
   "outputs": [
    {
     "data": {
      "text/plain": [
       "'Hel'"
      ]
     },
     "execution_count": 18,
     "metadata": {},
     "output_type": "execute_result"
    }
   ],
   "source": [
    "stri[:3]"
   ]
  },
  {
   "cell_type": "code",
   "execution_count": 19,
   "metadata": {},
   "outputs": [
    {
     "data": {
      "text/plain": [
       "'lo, my name is Maulik Raja and I am a Python+Django faculty at Tops Technologies CG Road.'"
      ]
     },
     "execution_count": 19,
     "metadata": {},
     "output_type": "execute_result"
    }
   ],
   "source": [
    "stri[3:]"
   ]
  },
  {
   "cell_type": "code",
   "execution_count": 20,
   "metadata": {},
   "outputs": [
    {
     "data": {
      "text/plain": [
       "'my'"
      ]
     },
     "execution_count": 20,
     "metadata": {},
     "output_type": "execute_result"
    }
   ],
   "source": [
    "stri[7:9]"
   ]
  },
  {
   "cell_type": "code",
   "execution_count": 21,
   "metadata": {},
   "outputs": [
    {
     "data": {
      "text/plain": [
       "'.'"
      ]
     },
     "execution_count": 21,
     "metadata": {},
     "output_type": "execute_result"
    }
   ],
   "source": [
    "stri[-1]"
   ]
  },
  {
   "cell_type": "code",
   "execution_count": 22,
   "metadata": {},
   "outputs": [
    {
     "data": {
      "text/plain": [
       "'.daoR GC seigolonhceT spoT ta ytlucaf ognajD+nohtyP a ma I dna ajaR kiluaM si eman ym ,olleH'"
      ]
     },
     "execution_count": 22,
     "metadata": {},
     "output_type": "execute_result"
    }
   ],
   "source": [
    "stri[::-1]"
   ]
  },
  {
   "cell_type": "code",
   "execution_count": 23,
   "metadata": {},
   "outputs": [
    {
     "data": {
      "text/plain": [
       "'Hlo ynm sMui aaadIa  yhnDag aut tTp ehooisC od'"
      ]
     },
     "execution_count": 23,
     "metadata": {},
     "output_type": "execute_result"
    }
   ],
   "source": [
    "stri[::2]"
   ]
  },
  {
   "cell_type": "code",
   "execution_count": 24,
   "metadata": {},
   "outputs": [
    {
     "data": {
      "text/plain": [
       "'Hello, my name is Maulik Raja and I am a Python+Django faculty at Tops Technologies CG Road.'"
      ]
     },
     "execution_count": 24,
     "metadata": {},
     "output_type": "execute_result"
    }
   ],
   "source": [
    "stri"
   ]
  },
  {
   "cell_type": "code",
   "execution_count": 12,
   "metadata": {},
   "outputs": [
    {
     "data": {
      "text/plain": [
       "'Road'"
      ]
     },
     "execution_count": 12,
     "metadata": {},
     "output_type": "execute_result"
    }
   ],
   "source": [
    "stri[-5:-1]"
   ]
  },
  {
   "cell_type": "code",
   "execution_count": 14,
   "metadata": {},
   "outputs": [
    {
     "name": "stdout",
     "output_type": "stream",
     "text": [
      "(0, 'H')\n",
      "(1, 'e')\n",
      "(2, 'l')\n",
      "(3, 'l')\n",
      "(4, 'o')\n",
      "(5, ',')\n",
      "(6, ' ')\n",
      "(7, 'm')\n",
      "(8, 'y')\n",
      "(9, ' ')\n",
      "(10, 'n')\n",
      "(11, 'a')\n",
      "(12, 'm')\n",
      "(13, 'e')\n",
      "(14, ' ')\n",
      "(15, 'i')\n",
      "(16, 's')\n",
      "(17, ' ')\n",
      "(18, 'M')\n",
      "(19, 'a')\n",
      "(20, 'u')\n",
      "(21, 'l')\n",
      "(22, 'i')\n",
      "(23, 'k')\n",
      "(24, ' ')\n",
      "(25, 'R')\n",
      "(26, 'a')\n",
      "(27, 'j')\n",
      "(28, 'a')\n",
      "(29, ' ')\n",
      "(30, 'a')\n",
      "(31, 'n')\n",
      "(32, 'd')\n",
      "(33, ' ')\n",
      "(34, 'I')\n",
      "(35, ' ')\n",
      "(36, 'a')\n",
      "(37, 'm')\n",
      "(38, ' ')\n",
      "(39, 'a')\n",
      "(40, ' ')\n",
      "(41, 'P')\n",
      "(42, 'y')\n",
      "(43, 't')\n",
      "(44, 'h')\n",
      "(45, 'o')\n",
      "(46, 'n')\n",
      "(47, '+')\n",
      "(48, 'D')\n",
      "(49, 'j')\n",
      "(50, 'a')\n",
      "(51, 'n')\n",
      "(52, 'g')\n",
      "(53, 'o')\n",
      "(54, ' ')\n",
      "(55, 'f')\n",
      "(56, 'a')\n",
      "(57, 'c')\n",
      "(58, 'u')\n",
      "(59, 'l')\n",
      "(60, 't')\n",
      "(61, 'y')\n",
      "(62, ' ')\n",
      "(63, 'a')\n",
      "(64, 't')\n",
      "(65, ' ')\n",
      "(66, 'T')\n",
      "(67, 'o')\n",
      "(68, 'p')\n",
      "(69, 's')\n",
      "(70, ' ')\n",
      "(71, 'T')\n",
      "(72, 'e')\n",
      "(73, 'c')\n",
      "(74, 'h')\n",
      "(75, 'n')\n",
      "(76, 'o')\n",
      "(77, 'l')\n",
      "(78, 'o')\n",
      "(79, 'g')\n",
      "(80, 'i')\n",
      "(81, 'e')\n",
      "(82, 's')\n",
      "(83, ' ')\n",
      "(84, 'C')\n",
      "(85, 'G')\n",
      "(86, ' ')\n",
      "(87, 'R')\n",
      "(88, 'o')\n",
      "(89, 'a')\n",
      "(90, 'd')\n",
      "(91, '.')\n"
     ]
    }
   ],
   "source": [
    "for i in enumerate(stri):\n",
    "    print(i)"
   ]
  },
  {
   "cell_type": "code",
   "execution_count": 15,
   "metadata": {},
   "outputs": [
    {
     "data": {
      "text/plain": [
       "'Road'"
      ]
     },
     "execution_count": 15,
     "metadata": {},
     "output_type": "execute_result"
    }
   ],
   "source": [
    "stri[87:91]"
   ]
  },
  {
   "cell_type": "code",
   "execution_count": null,
   "metadata": {},
   "outputs": [],
   "source": []
  }
 ],
 "metadata": {
  "interpreter": {
   "hash": "3410afedb74081d81603511028deadddc25ba0f01c14e0cb891e2c2473f81884"
  },
  "kernelspec": {
   "display_name": "Python 3.8.8 64-bit",
   "language": "python",
   "name": "python3"
  },
  "language_info": {
   "codemirror_mode": {
    "name": "ipython",
    "version": 3
   },
   "file_extension": ".py",
   "mimetype": "text/x-python",
   "name": "python",
   "nbconvert_exporter": "python",
   "pygments_lexer": "ipython3",
   "version": "3.8.8"
  },
  "orig_nbformat": 4
 },
 "nbformat": 4,
 "nbformat_minor": 2
}
